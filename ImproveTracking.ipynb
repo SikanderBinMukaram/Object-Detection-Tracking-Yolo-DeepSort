{
  "nbformat": 4,
  "nbformat_minor": 0,
  "metadata": {
    "colab": {
      "name": "Sikander's Sim Day.ipynb",
      "private_outputs": true,
      "provenance": [],
      "include_colab_link": true
    },
    "kernelspec": {
      "name": "python3",
      "display_name": "Python 3"
    },
    "language_info": {
      "name": "python"
    },
    "accelerator": "GPU"
  },
  "cells": [
    {
      "cell_type": "markdown",
      "metadata": {
        "id": "view-in-github",
        "colab_type": "text"
      },
      "source": [
        "<a href=\"https://colab.research.google.com/github/SikanderBinMukaram/Object-Detection-Tracking-Yolo-DeepSort/blob/main/ImproveTracking.ipynb\" target=\"_parent\"><img src=\"https://colab.research.google.com/assets/colab-badge.svg\" alt=\"Open In Colab\"/></a>"
      ]
    },
    {
      "cell_type": "code",
      "metadata": {
        "id": "YeshoJGmU6IQ"
      },
      "source": [
        "from google.colab import drive\n",
        "drive.mount('/content/drive')"
      ],
      "execution_count": null,
      "outputs": []
    },
    {
      "cell_type": "code",
      "metadata": {
        "id": "aLVvhgs6RiaK"
      },
      "source": [
        "!ls\n",
        "%cd /content/drive/Shareddrives/DeepSort data/"
      ],
      "execution_count": null,
      "outputs": []
    },
    {
      "cell_type": "code",
      "metadata": {
        "id": "rc4BmVktWsN9"
      },
      "source": [
        "!pwd"
      ],
      "execution_count": null,
      "outputs": []
    },
    {
      "cell_type": "code",
      "metadata": {
        "id": "-OmMCUMoWuzR"
      },
      "source": [
        "!tar -xf object-tracking-crops-data.tar.gz"
      ],
      "execution_count": null,
      "outputs": []
    },
    {
      "cell_type": "code",
      "metadata": {
        "id": "7CTIQvvJaPis"
      },
      "source": [
        "! pip install -q kaggle\n",
        "import gdown\n",
        "!gdown https://drive.google.com/file/d/1VHG6eJOAp1ytp8cJ0D08xXkBv7EoY7a8/view?usp=sharing"
      ],
      "execution_count": null,
      "outputs": []
    },
    {
      "cell_type": "code",
      "metadata": {
        "id": "N5GXLSr7bYGB"
      },
      "source": [
        "!unzip archive.zip"
      ],
      "execution_count": null,
      "outputs": []
    },
    {
      "cell_type": "code",
      "metadata": {
        "id": "FcRceLwCfHrJ"
      },
      "source": [
        "!git clone https://github.com/abhyantrika/nanonets_object_tracking.git"
      ],
      "execution_count": null,
      "outputs": []
    },
    {
      "cell_type": "code",
      "metadata": {
        "id": "2-gtAsCpfWlx"
      },
      "source": [
        "%cd nanonets_object_tracking/"
      ],
      "execution_count": null,
      "outputs": []
    },
    {
      "cell_type": "code",
      "metadata": {
        "id": "Ycn47DOofhsT"
      },
      "source": [
        "!pip install -r requirements.txt\n"
      ],
      "execution_count": null,
      "outputs": []
    },
    {
      "cell_type": "code",
      "metadata": {
        "id": "yqBe0_U4hJtm"
      },
      "source": [
        "!pwd\n",
        "%cd drive/Shareddrives/DeepSort\\ data\\"
      ],
      "execution_count": null,
      "outputs": []
    },
    {
      "cell_type": "code",
      "metadata": {
        "id": "XPoXXHmvhjYN"
      },
      "source": [
        "%cd nanonets_object_tracking/"
      ],
      "execution_count": null,
      "outputs": []
    },
    {
      "cell_type": "code",
      "metadata": {
        "id": "3TReTDxjhmjc"
      },
      "source": [
        "!python siamese_train.py"
      ],
      "execution_count": null,
      "outputs": []
    },
    {
      "cell_type": "code",
      "metadata": {
        "id": "BfMy5MT5uDwi"
      },
      "source": [
        "!python siamese_test.py"
      ],
      "execution_count": null,
      "outputs": []
    },
    {
      "cell_type": "code",
      "metadata": {
        "id": "Y9bLXIOLwXgy"
      },
      "source": [
        "!ls wc -l ./../train/ "
      ],
      "execution_count": null,
      "outputs": []
    },
    {
      "cell_type": "code",
      "metadata": {
        "id": "oeQs-ClPmykE"
      },
      "source": [
        "!gdown https://drive.google.com/u/0/uc?id=1QQpHTK8w05ZVbXjWYc8UOPlYDN52RSVO&export=download"
      ],
      "execution_count": null,
      "outputs": []
    },
    {
      "cell_type": "code",
      "metadata": {
        "id": "tYVJ4OVPn2Pq"
      },
      "source": [
        "!python test_on_video.py"
      ],
      "execution_count": null,
      "outputs": []
    }
  ]
}